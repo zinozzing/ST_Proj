{
 "cells": [
  {
   "cell_type": "code",
   "execution_count": 93,
   "id": "6409f8c3",
   "metadata": {},
   "outputs": [],
   "source": [
    "import pandas as pd\n",
    "import numpy as np\n",
    "%matplotlib inline\n",
    "import matplotlib.pyplot as plt\n",
    "import re\n",
    "import urllib.request\n",
    "from konlpy.tag import Okt\n",
    "from tensorflow.keras.preprocessing.text import Tokenizer\n",
    "from tensorflow.keras.preprocessing.sequence import pad_sequences"
   ]
  },
  {
   "cell_type": "code",
   "execution_count": 94,
   "id": "d2878c8f",
   "metadata": {},
   "outputs": [
    {
     "name": "stdout",
     "output_type": "stream",
     "text": [
      "훈련용 리뷰 개수 : 200000\n",
      "테스트용 리뷰 개수 : 88\n"
     ]
    }
   ],
   "source": [
    "#데이터 로드\n",
    "\n",
    "train_data = pd.read_table('ratings_train_all.txt')\n",
    "test_data = pd.read_table('여신강림1회_댓글라벨링.txt', encoding='cp949') #우리가 라벨링한것\n",
    "print('훈련용 리뷰 개수 :',len(train_data))\n",
    "print('테스트용 리뷰 개수 :',len(test_data))"
   ]
  },
  {
   "cell_type": "code",
   "execution_count": 95,
   "id": "cdff8683",
   "metadata": {},
   "outputs": [],
   "source": [
    "#시간너무걸리니 랜덤샘플링   -실제 제출할떈 지우기!!!!!!!!!!!!!!!!!!!!!!!!!!!!!!!!\n",
    "train_data = train_data.sample(n=30000, random_state=0)"
   ]
  },
  {
   "cell_type": "code",
   "execution_count": 96,
   "id": "3ac9e08f",
   "metadata": {
    "scrolled": true
   },
   "outputs": [
    {
     "name": "stdout",
     "output_type": "stream",
     "text": [
      "훈련용 리뷰 개수 : 30000\n",
      "테스트용 리뷰 개수 : 88\n"
     ]
    }
   ],
   "source": [
    "print('훈련용 리뷰 개수 :',len(train_data))\n",
    "print('테스트용 리뷰 개수 :',len(test_data))"
   ]
  },
  {
   "cell_type": "code",
   "execution_count": 97,
   "id": "a46ae5b6",
   "metadata": {},
   "outputs": [],
   "source": [
    "#중복 데이터 수\n",
    "train_data['document'].nunique(), train_data['label'].nunique()\n",
    "\n",
    "# document 열에서 중복인 내용이 있다면 중복 제거\n",
    "train_data.drop_duplicates(subset=['document'], inplace=True) "
   ]
  },
  {
   "cell_type": "code",
   "execution_count": 98,
   "id": "84ab8d3a",
   "metadata": {},
   "outputs": [
    {
     "name": "stdout",
     "output_type": "stream",
     "text": [
      "총 샘플의 수 : 29568\n"
     ]
    }
   ],
   "source": [
    "#중복 제거 후 샘플 수\n",
    "print('총 샘플의 수 :',len(train_data))"
   ]
  },
  {
   "cell_type": "code",
   "execution_count": 99,
   "id": "99850aeb",
   "metadata": {},
   "outputs": [
    {
     "name": "stdout",
     "output_type": "stream",
     "text": [
      "   label  count\n",
      "0      0  14822\n",
      "1      1  14746\n"
     ]
    }
   ],
   "source": [
    "# 트레인셋의 라벨 수\n",
    "print(train_data.groupby('label').size().reset_index(name = 'count'))"
   ]
  },
  {
   "cell_type": "code",
   "execution_count": 100,
   "id": "1446cf66",
   "metadata": {},
   "outputs": [
    {
     "name": "stdout",
     "output_type": "stream",
     "text": [
      "결측치 제거 후 갯수\n"
     ]
    }
   ],
   "source": [
    "#결측치있다면 삭제\n",
    "if train_data.isnull().values.any() ==True:\n",
    "    train_data = train_data.dropna(how = 'any')\n",
    "    print('결측치 제거 후 갯수')\n",
    "    len(train_data)"
   ]
  },
  {
   "cell_type": "code",
   "execution_count": 101,
   "id": "29f7722b",
   "metadata": {},
   "outputs": [
    {
     "data": {
      "text/plain": [
       "\"\\n#영어에서 잡 문자 제거\\ntext = 'do!!! you expect... people~ to~ read~ the FAQ, etc. and actually accept hard~! atheism?@@'\\nre.sub(r'[^a-zA-Z ]', '', text) #알파벳과 공백을 제외하고 모두 제거\\n\""
      ]
     },
     "execution_count": 101,
     "metadata": {},
     "output_type": "execute_result"
    }
   ],
   "source": [
    "'''\n",
    "#영어에서 잡 문자 제거\n",
    "text = 'do!!! you expect... people~ to~ read~ the FAQ, etc. and actually accept hard~! atheism?@@'\n",
    "re.sub(r'[^a-zA-Z ]', '', text) #알파벳과 공백을 제외하고 모두 제거\n",
    "'''"
   ]
  },
  {
   "cell_type": "code",
   "execution_count": 102,
   "id": "42c569ac",
   "metadata": {},
   "outputs": [
    {
     "name": "stderr",
     "output_type": "stream",
     "text": [
      "<ipython-input-102-7c6e437d390d>:1: FutureWarning: The default value of regex will change from True to False in a future version.\n",
      "  train_data['document'] = train_data['document'].str.replace(\"[^ㄱ-ㅎㅏ-ㅣ가-힣 ]\",\"\")\n"
     ]
    },
    {
     "data": {
      "text/html": [
       "<div>\n",
       "<style scoped>\n",
       "    .dataframe tbody tr th:only-of-type {\n",
       "        vertical-align: middle;\n",
       "    }\n",
       "\n",
       "    .dataframe tbody tr th {\n",
       "        vertical-align: top;\n",
       "    }\n",
       "\n",
       "    .dataframe thead th {\n",
       "        text-align: right;\n",
       "    }\n",
       "</style>\n",
       "<table border=\"1\" class=\"dataframe\">\n",
       "  <thead>\n",
       "    <tr style=\"text-align: right;\">\n",
       "      <th></th>\n",
       "      <th>id</th>\n",
       "      <th>document</th>\n",
       "      <th>label</th>\n",
       "    </tr>\n",
       "  </thead>\n",
       "  <tbody>\n",
       "    <tr>\n",
       "      <th>54458</th>\n",
       "      <td>2920361</td>\n",
       "      <td>오웬 윌슨 성룡다 최고의 배우</td>\n",
       "      <td>1</td>\n",
       "    </tr>\n",
       "    <tr>\n",
       "      <th>118646</th>\n",
       "      <td>5614748</td>\n",
       "      <td>반전이 조금 어이없었던 것 빼고는 정말 슬프고 아렸던 영화 ㅠㅠ</td>\n",
       "      <td>1</td>\n",
       "    </tr>\n",
       "    <tr>\n",
       "      <th>57401</th>\n",
       "      <td>7381910</td>\n",
       "      <td>아이에게 의리를 가르치고 싶다면 영웅을 보라</td>\n",
       "      <td>0</td>\n",
       "    </tr>\n",
       "    <tr>\n",
       "      <th>115324</th>\n",
       "      <td>1552619</td>\n",
       "      <td>평점왜이래정말 진정한느와르</td>\n",
       "      <td>1</td>\n",
       "    </tr>\n",
       "    <tr>\n",
       "      <th>71684</th>\n",
       "      <td>1616608</td>\n",
       "      <td>음악이 압권 복고풍효과음이 가장인상깊은</td>\n",
       "      <td>1</td>\n",
       "    </tr>\n",
       "  </tbody>\n",
       "</table>\n",
       "</div>"
      ],
      "text/plain": [
       "             id                             document  label\n",
       "54458   2920361                     오웬 윌슨 성룡다 최고의 배우      1\n",
       "118646  5614748  반전이 조금 어이없었던 것 빼고는 정말 슬프고 아렸던 영화 ㅠㅠ      1\n",
       "57401   7381910             아이에게 의리를 가르치고 싶다면 영웅을 보라      0\n",
       "115324  1552619                       평점왜이래정말 진정한느와르      1\n",
       "71684   1616608                음악이 압권 복고풍효과음이 가장인상깊은      1"
      ]
     },
     "execution_count": 102,
     "metadata": {},
     "output_type": "execute_result"
    }
   ],
   "source": [
    "train_data['document'] = train_data['document'].str.replace(\"[^ㄱ-ㅎㅏ-ㅣ가-힣 ]\",\"\")\n",
    "# 한글과 공백을 제외하고 모두 제거\n",
    "train_data[:5]"
   ]
  },
  {
   "cell_type": "code",
   "execution_count": 103,
   "id": "090880b6",
   "metadata": {},
   "outputs": [
    {
     "name": "stdout",
     "output_type": "stream",
     "text": [
      "다시 생긴 공백이 있다면 삭제\n",
      "학습데이터 길이 : 29377\n"
     ]
    },
    {
     "name": "stderr",
     "output_type": "stream",
     "text": [
      "<ipython-input-103-60360b2582a2>:2: FutureWarning: The default value of regex will change from True to False in a future version.\n",
      "  train_data['document'] = train_data['document'].str.replace('^ +', \"\") # white space 데이터를 empty value로 변경\n"
     ]
    }
   ],
   "source": [
    "#위에서 한글과 공백만 남겨서, 다시 공백이 생겼을 것임. 이들을 확인\n",
    "train_data['document'] = train_data['document'].str.replace('^ +', \"\") # white space 데이터를 empty value로 변경\n",
    "train_data['document'].replace('', np.nan, inplace=True)\n",
    "\n",
    "train_data = train_data.dropna(how = 'any')\n",
    "print('다시 생긴 공백이 있다면 삭제')\n",
    "print('학습데이터 길이 : ' + str(len(train_data)))"
   ]
  },
  {
   "cell_type": "code",
   "execution_count": 104,
   "id": "20db021b",
   "metadata": {},
   "outputs": [
    {
     "name": "stdout",
     "output_type": "stream",
     "text": [
      "전처리 후 테스트용 샘플의 개수 : 84\n"
     ]
    },
    {
     "name": "stderr",
     "output_type": "stream",
     "text": [
      "<ipython-input-104-97a1cf8be4ba>:3: FutureWarning: The default value of regex will change from True to False in a future version.\n",
      "  test_data['document'] = test_data['document'].str.replace(\"[^ㄱ-ㅎㅏ-ㅣ가-힣 ]\",\"\") # 정규 표현식 수행\n",
      "<ipython-input-104-97a1cf8be4ba>:4: FutureWarning: The default value of regex will change from True to False in a future version.\n",
      "  test_data['document'] = test_data['document'].str.replace('^ +', \"\") # 공백은 empty 값으로 변경\n"
     ]
    }
   ],
   "source": [
    "#테스트셋도 전처리\n",
    "test_data.drop_duplicates(subset = ['document'], inplace=True) # document 열에서 중복인 내용이 있다면 중복 제거\n",
    "test_data['document'] = test_data['document'].str.replace(\"[^ㄱ-ㅎㅏ-ㅣ가-힣 ]\",\"\") # 정규 표현식 수행\n",
    "test_data['document'] = test_data['document'].str.replace('^ +', \"\") # 공백은 empty 값으로 변경\n",
    "test_data['document'].replace('', np.nan, inplace=True) # 공백은 Null 값으로 변경\n",
    "test_data = test_data.dropna(how='any') # Null 값 제거\n",
    "print('전처리 후 테스트용 샘플의 개수 :',len(test_data))"
   ]
  },
  {
   "cell_type": "code",
   "execution_count": 105,
   "id": "d0b9899a",
   "metadata": {},
   "outputs": [],
   "source": [
    "#불용어 지정 및 형태소 분리\n",
    "stopwords = ['의','가','이','은','들','는','좀','잘','걍','과','도','를','으로','자','에','와','한','하다']\n",
    "\n",
    "#형태소분리\n",
    "okt = Okt()\n",
    "\n",
    "X_train = []\n",
    "for sentence in train_data['document']:\n",
    "    temp_X = okt.morphs(sentence, stem=True) # 형태소분리\n",
    "    temp_X = [word for word in temp_X if not word in stopwords] # 불용어 제거\n",
    "    X_train.append(temp_X)\n",
    "    \n",
    "    \n",
    "X_test = []\n",
    "for sentence in test_data['document']:\n",
    "    temp_X = okt.morphs(sentence, stem=True) # 토큰화\n",
    "    temp_X = [word for word in temp_X if not word in stopwords] # 불용어 제거\n",
    "    X_test.append(temp_X)"
   ]
  },
  {
   "cell_type": "code",
   "execution_count": 106,
   "id": "045af6c6",
   "metadata": {},
   "outputs": [
    {
     "name": "stdout",
     "output_type": "stream",
     "text": [
      "[['오웬', '윌슨', '성룡', '다', '최고', '배우'], ['반전', '조금', '어이없다', '것', '빼다', '정말', '슬프다', '아리다', '영화', 'ㅠㅠ'], ['아이', '에게', '의리', '가르치다', '싶다', '영웅', '을', '보라']]\n"
     ]
    }
   ],
   "source": [
    "#제대로 분리 됐는지 확인해보기\n",
    "print(X_train[:3])"
   ]
  },
  {
   "cell_type": "code",
   "execution_count": 107,
   "id": "e1e24986",
   "metadata": {},
   "outputs": [],
   "source": [
    "#정수인코딩\n",
    "tokenizer = Tokenizer()\n",
    "tokenizer.fit_on_texts(str(X_train))"
   ]
  },
  {
   "cell_type": "code",
   "execution_count": 108,
   "id": "803d0e3d",
   "metadata": {},
   "outputs": [
    {
     "name": "stdout",
     "output_type": "stream",
     "text": [
      "{\"'\": 1, '다': 2, '이': 3, '하': 4, '화': 5, '영': 6, '보': 7, '지': 8, '기': 9, '나': 10, '리': 11, '아': 12, 'ㅋ': 13, '고': 14, '만': 15, '재': 16, '인': 17, '그': 18, '가': 19, '라': 20, '스': 21, '무': 22, '을': 23, '로': 24, '시': 25, '없': 26, '정': 27, '미': 28, '어': 29, '대': 30, '오': 31, '말': 32, '사': 33, '도': 34, '점': 35, '주': 36, '마': 37, '자': 38, '있': 39, '연': 40, '에': 41, '서': 42, '감': 43, '니': 44, '내': 45, '전': 46, '진': 47, '우': 48, '들': 49, '좋': 50, '작': 51, '장': 52, '너': 53, '수': 54, '되': 55, '상': 56, '안': 57, '게': 58, '생': 59, '적': 60, '짜': 61, '드': 62, '렇': 63, '한': 64, '제': 65, '여': 66, '최': 67, '해': 68, '부': 69, '모': 70, '치': 71, '개': 72, '르': 73, '간': 74, '동': 75, '요': 76, '같': 77, 'ㅠ': 78, '소': 79, '거': 80, '일': 81, '중': 82, '밌': 83, '음': 84, '평': 85, '성': 86, '비': 87, '배': 88, '때': 89, '신': 90, '각': 91, '않': 92, '더': 93, '분': 94, '공': 95, '유': 96, '레': 97, '토': 98, '구': 99, '는': 100, '것': 101, '야': 102, '용': 103, '루': 104, '국': 105, '실': 106, '건': 107, '면': 108, '랑': 109, '저': 110, '데': 111, '터': 112, '의': 113, 'ㅎ': 114, '알': 115, '남': 116, '명': 117, '네': 118, '못': 119, '독': 120, '반': 121, '람': 122, '왜': 123, '래': 124, '느': 125, '쓰': 126, '차': 127, '임': 128, '편': 129, '악': 130, '디': 131, '물': 132, '까': 133, '조': 134, '애': 135, '역': 136, '바': 137, '심': 138, '원': 139, '프': 140, '타': 141, '깝': 142, '막': 143, '러': 144, '금': 145, '추': 146, '별': 147, '세': 148, 'ㅡ': 149, '많': 150, '년': 151, '트': 152, '처': 153, '버': 154, '력': 155, '두': 156, '노': 157, '번': 158, '포': 159, '걸': 160, '본': 161, '름': 162, '단': 163, '당': 164, '냥': 165, '살': 166, '난': 167, '히': 168, '뭐': 169, '현': 170, '망': 171, '예': 172, '선': 173, '관': 174, '위': 175, '답': 176, '문': 177, '매': 178, '코': 179, '체': 180, '완': 181, '볼': 182, '션': 183, '럽': 184, '끝': 185, '억': 186, '출': 187, '발': 188, '극': 189, '결': 190, '웃': 191, '속': 192, '크': 193, '런': 194, '품': 195, '후': 196, '박': 197, '끼': 198, '설': 199, '불': 200, '직': 201, '울': 202, '싶': 203, '절': 204, '준': 205, '계': 206, '경': 207, '입': 208, '눈': 209, '넘': 210, '으': 211, '따': 212, '함': 213, '메': 214, '강': 215, '잔': 216, '과': 217, 'ㅜ': 218, '식': 219, '키': 220, '액': 221, '방': 222, '행': 223, '초': 224, '죽': 225, '민': 226, '피': 227, '천': 228, '운': 229, '교': 230, '쁘': 231, '허': 232, '청': 233, '짱': 234, '엔': 235, '판': 236, '머': 237, '족': 238, '김': 239, '먹': 240, '질': 241, '멋': 242, '돈': 243, '님': 244, '빠': 245, '학': 246, '잼': 247, '듯': 248, '호': 249, '근': 250, '캐': 251, '늘': 252, '든': 253, '회': 254, '달': 255, '파': 256, '괜': 257, '순': 258, '또': 259, '목': 260, '티': 261, '즈': 262, '움': 263, '받': 264, '증': 265, '등': 266, '려': 267, '급': 268, '특': 269, '슬': 270, '은': 271, '맞': 272, '얼': 273, '새': 274, '슨': 275, '복': 276, '줄': 277, '날': 278, '글': 279, '필': 280, '형': 281, '표': 282, '카': 283, '씨': 284, '찮': 285, '란': 286, '돌': 287, '낌': 288, '뻔': 289, '몰': 290, '뭔': 291, '집': 292, '맨': 293, '존': 294, '색': 295, '엄': 296, '누': 297, '른': 298, '외': 299, '테': 300, '끄': 301, '희': 302, '통': 303, '언': 304, '졸': 305, '귀': 306, '냐': 307, '케': 308, '류': 309, '딩': 310, '잡': 311, '태': 312, '쉽': 313, '습': 314, '낮': 315, '섭': 316, '꼭': 317, '충': 318, '격': 319, '릴': 320, '약': 321, '양': 322, '떻': 323, '산': 324, '밋': 325, '슴': 326, '힘': 327, '흥': 328, 'ㄷ': 329, '담': 330, '론': 331, '욕': 332, '봉': 333, '뿐': 334, '릭': 335, '높': 336, '참': 337, '린': 338, '술': 339, '록': 340, '씬': 341, '녀': 342, '롭': 343, '갈': 344, '솔': 345, '능': 346, 'ㅉ': 347, '혀': 348, '황': 349, '겁': 350, '범': 351, '찾': 352, '훈': 353, '올': 354, '굿': 355, '투': 356, '브': 357, '열': 358, '찍': 359, '싸': 360, '군': 361, '혼': 362, '엇': 363, '종': 364, '베': 365, 'ㅇ': 366, '손': 367, '놓': 368, '친': 369, '잘': 370, '몇': 371, '딱': 372, '랜': 373, '림': 374, '긴': 375, '접': 376, '병': 377, '와': 378, '블': 379, '석': 380, '써': 381, '놀': 382, '떨': 383, '돼': 384, '럼': 385, '뜻': 386, '환': 387, '팅': 388, '송': 389, '승': 390, '탄': 391, '깊': 392, '쾌': 393, '엽': 394, '삼': 395, '링': 396, '엉': 397, '홍': 398, '빨': 399, '믿': 400, '즐': 401, '변': 402, '왕': 403, '쓸': 404, '밖': 405, '즘': 406, '법': 407, '벽': 408, '향': 409, '권': 410, '뒤': 411, '창': 412, '싫': 413, '광': 414, '패': 415, '쟁': 416, '쉬': 417, '채': 418, '객': 419, '꾸': 420, '길': 421, '놈': 422, '책': 423, '클': 424, '팬': 425, '폭': 426, '맛': 427, '앞': 428, '커': 429, '암': 430, '빼': 431, '잊': 432, '갑': 433, '괴': 434, '워': 435, '덕': 436, '백': 437, '퍼': 438, '락': 439, '흐': 440, '확': 441, '잠': 442, '잇': 443, '딴': 444, '훌': 445, '륭': 446, '봣': 447, '첨': 448, '찌': 449, '휴': 450, '빙': 451, '틀': 452, '삶': 453, '빈': 454, '큐': 455, '킬': 456, '깨': 457, '짝': 458, '께': 459, '죄': 460, '떠': 461, '벌': 462, '윤': 463, '껴': 464, '탈': 465, '큼': 466, '업': 467, '뭘': 468, '찬': 469, '낫': 470, '효': 471, '겹': 472, '궁': 473, '옛': 474, '견': 475, '철': 476, '굴': 477, '멀': 478, '봄': 479, '풀': 480, '립': 481, '짓': 482, '얘': 483, '밀': 484, '할': 485, '돋': 486, '플': 487, '좀': 488, '월': 489, '욱': 490, '혹': 491, '닥': 492, '온': 493, '풍': 494, '숨': 495, '룡': 496, '훨': 497, '활': 498, '합': 499, '끌': 500, '쌍': 501, '며': 502, '꼬': 503, '쩌': 504, '낭': 505, '페': 506, '째': 507, '뜨': 508, '몸': 509, '딸': 510, '낚': 511, '취': 512, '총': 513, '믹': 514, '빛': 515, '쩔': 516, '험': 517, '착': 518, '맘': 519, '뛰': 520, '골': 521, '똥': 522, '읽': 523, '련': 524, '왠': 525, '던': 526, '죠': 527, '즌': 528, '멜': 529, '헐': 530, '갖': 531, '침': 532, '콩': 533, '찰': 534, '척': 535, '밉': 536, '슷': 537, '먼': 538, '슈': 539, '젠': 540, '햇': 541, '팔': 542, '득': 543, '굳': 544, '꿀': 545, '빵': 546, '징': 547, '꽤': 548, '꿈': 549, '웅': 550, '줌': 551, 'ㅅ': 552, '튼': 553, '곳': 554, '흔': 555, '응': 556, '멘': 557, '겨': 558, '묘': 559, '첫': 560, '틱': 561, '똑': 562, '익': 563, '압': 564, '쇼': 565, '깔': 566, '듣': 567, '혜': 568, '흘': 569, '멍': 570, '닝': 571, '끔': 572, '둘': 573, '택': 574, '픽': 575, '렵': 576, 'ㄱ': 577, '항': 578, '북': 579, '밑': 580, '빌': 581, '짐': 582, '옥': 583, '쯤': 584, '풋': 585, '료': 586, '져': 587, '젤': 588, '헤': 589, '랄': 590, '폐': 591, '넣': 592, '씩': 593, '굉': 594, '츠': 595, '콤': 596, '흑': 597, '축': 598, '섹': 599, '볍': 600, '규': 601, '콜': 602, '땐': 603, '곡': 604, '율': 605, '쿠': 606, '육': 607, '꺼': 608, 'ㅂ': 609, '잃': 610, '럭': 611, '흠': 612, '땜': 613, '핵': 614, '벗': 615, '맥': 616, '픔': 617, '겐': 618, '댓': 619, '널': 620, '틴': 621, '램': 622, '꼽': 623, '밥': 624, '협': 625, '묻': 626, '량': 627, '률': 628, '폰': 629, '숙': 630, '춘': 631, '몽': 632, '쪽': 633, '겠': 634, '뮤': 635, '십': 636, '령': 637, '엘': 638, '념': 639, '꼴': 640, '검': 641, '킹': 642, '센': 643, '푸': 644, '곤': 645, '컬': 646, '렌': 647, '펑': 648, '칼': 649, '듬': 650, '쏘': 651, '덜': 652, '륜': 653, '콘': 654, '렬': 655, '힐': 656, '껏': 657, '젊': 658, '잉': 659, 'ㄹ': 660, '샤': 661, '싱': 662, '엿': 663, '랙': 664, '칠': 665, '밤': 666, '짧': 667, '릿': 668, '흡': 669, 'ㅈ': 670, '턴': 671, '랫': 672, '헌': 673, '떤': 674, '덥': 675, '섬': 676, '탕': 677, '혁': 678, '퀄': 679, '밝': 680, '엑': 681, '윌': 682, '벨': 683, '쥐': 684, '닿': 685, '깜': 686, '뜬': 687, '깐': 688, '웬': 689, 'ㄴ': 690, '컨': 691, '춤': 692, '촌': 693, '앙': 694, '맹': 695, '떼': 696, '앤': 697, '균': 698, '톤': 699, '뇌': 700, '쎄': 701, '붙': 702, '촬': 703, '탁': 704, '찝': 705, '뽕': 706, 'ㅏ': 707, '녹': 708, '끊': 709, '뒷': 710, '옹': 711, '빡': 712, '쩐': 713, '농': 714, '얻': 715, '쩝': 716, '껄': 717, '렉': 718, '잭': 719, '팀': 720, '맙': 721, '몬': 722, '낙': 723, '텔': 724, '끈': 725, '염': 726, '뚱': 727, '늦': 728, '찡': 729, '뉴': 730, '었': 731, '좌': 732, '롱': 733, '떡': 734, '맡': 735, '묵': 736, '갱': 737, '줍': 738, '켜': 739, '텐': 740, '푹': 741, '샘': 742, '웨': 743, '쥬': 744, '옷': 745, '잖': 746, '쫌': 747, '땅': 748, '늙': 749, '핑': 750, '쵝': 751, '뜩': 752, '쩜': 753, '꽃': 754, '논': 755, '챙': 756, '삭': 757, '쩡': 758, '쯧': 759, '톰': 760, '뭉': 761, '뀌': 762, '둥': 763, '붕': 764, '덤': 765, '퉁': 766, '탑': 767, '튀': 768, '획': 769, '걱': 770, '휘': 771, '폴': 772, '븐': 773, '닉': 774, '셈': 775, '롤': 776, '측': 777, '넌': 778, '칭': 779, '홀': 780, '씹': 781, '았': 782, '뚝': 783, '뷰': 784, '숭': 785, '틈': 786, '였': 787, 'ㅁ': 788, '펜': 789, '컴': 790, '땡': 791, 'ㅗ': 792, '뱀': 793, '닮': 794, '헛': 795, '떄': 796, '갓': 797, '헬': 798, '값': 799, '곱': 800, '뿌': 801, '례': 802, '팩': 803, '씁': 804, '략': 805, '셔': 806, '킨': 807, '썩': 808, '겉': 809, '랍': 810, '랬': 811, '쿵': 812, '퇴': 813, '쏠': 814, '쳐': 815, '냉': 816, '퀴': 817, '봇': 818, '꾼': 819, '롯': 820, '셀': 821, '뎁': 822, '멸': 823, '꽝': 824, '탓': 825, '섯': 826, '앨': 827, '낳': 828, '닫': 829, '봤': 830, '벅': 831, '넷': 832, '혐': 833, '뽑': 834, '뢰': 835, '덩': 836, '윈': 837, '옴': 838, '룩': 839, '칸': 840, '듭': 841, '쏟': 842, '냄': 843, '텝': 844, '뽀': 845, '뷔': 846, '빅': 847, 'ㅣ': 848, '깎': 849, '댄': 850, '갠': 851, '캬': 852, '띄': 853, '짠': 854, '렁': 855, '뿔': 856, '앉': 857, '씀': 858, '왓': 859, '톱': 860, '깡': 861, '릇': 862, '컷': 863, '녕': 864, '왤': 865, '팍': 866, '층': 867, '옆': 868, '납': 869, '므': 870, '앵': 871, '겪': 872, '첩': 873, '뎀': 874, '벤': 875, '폼': 876, '덴': 877, '짤': 878, '낯': 879, '밍': 880, '쿨': 881, '퓨': 882, '혈': 883, '렛': 884, '긋': 885, '찜': 886, '펙': 887, '럴': 888, '깍': 889, '섞': 890, '털': 891, '셉': 892, '엠': 893, '튜': 894, '쪼': 895, '템': 896, '델': 897, '멈': 898, '둡': 899, '된': 900, '젖': 901, '젼': 902, '짬': 903, 'ㅐ': 904, '닌': 905, '켓': 906, '둑': 907, '팝': 908, 'ㅄ': 909, '툭': 910, '를': 911, '쯔': 912, '뻑': 913, '탐': 914, '큰': 915, '칙': 916, '탱': 917, '쓴': 918, '옳': 919, '콧': 920, '싹': 921, '넬': 922, '흉': 923, '몫': 924, '컥': 925, '딧': 926, '딘': 927, '펼': 928, '빗': 929, '쇄': 930, '넹': 931, '숀': 932, '깃': 933, '닭': 934, '늬': 935, 'ㅓ': 936, '랭': 937, '셋': 938, '쭉': 939, '렷': 940, '쫓': 941, '켄': 942, '곧': 943, '낼': 944, '죤': 945, '및': 946, '뎅': 947, '셰': 948, '껍': 949, '뻣': 950, '캅': 951, '웰': 952, '쨌': 953, '앗': 954, '렐': 955, '띠': 956, '펴': 957, '웟': 958, '캠': 959, '셧': 960, '뭥': 961, '딜': 962, '곽': 963, '헨': 964, '쫄': 965, '눕': 966, '콕': 967, '겻': 968, '똘': 969, '낄': 970, '핀': 971, '쿡': 972, '첼': 973, '갛': 974, '됫': 975, '쌓': 976, '핫': 977, '핸': 978, '걷': 979, '뼈': 980, '렴': 981, '셜': 982, '욤': 983, '썰': 984, '졋': 985, '랗': 986, '쩍': 987, '밸': 988, '읍': 989, '얄': 990, 'ㄲ': 991, '엣': 992, '닼': 993, '펠': 994, '뭡': 995, '츄': 996, '멤': 997, '쌩': 998, '힌': 999, '떳': 1000, '닐': 1001, '틋': 1002, '훼': 1003, '늑': 1004, '찢': 1005, '삐': 1006, '깁': 1007, '톡': 1008, '땀': 1009, '핳': 1010, '꽁': 1011, '홧': 1012, '훗': 1013, '캔': 1014, '닷': 1015, '뭇': 1016, 'ㅊ': 1017, '웍': 1018, '팡': 1019, '룸': 1020, '퉤': 1021, '즉': 1022, '뻥': 1023, '댐': 1024, '쇠': 1025, '겟': 1026, '맣': 1027, '닦': 1028, '륙': 1029, '곰': 1030, '긍': 1031, '쭈': 1032, '킥': 1033, 'ㅆ': 1034, '덮': 1035, '뵈': 1036, '욜': 1037, '끗': 1038, '밧': 1039, '밴': 1040, '썸': 1041, '핏': 1042, '헷': 1043, '쁨': 1044, '빚': 1045, '꽂': 1046, '맴': 1047, '뺏': 1048, '힙': 1049, '찔': 1050, '퀼': 1051, '벙': 1052, '갇': 1053, '킴': 1054, '넓': 1055, '덧': 1056, '틸': 1057, '숲': 1058, '껀': 1059, '쉐': 1060, '맑': 1061, '옮': 1062, '뚜': 1063, '킵': 1064, '둠': 1065, '룰': 1066, '긔': 1067, '윽': 1068, '퀀': 1069, '칫': 1070, '했': 1071, '뭣': 1072, '얗': 1073, '앜': 1074, '붓': 1075, '딕': 1076, '엥': 1077, '엌': 1078, '뿜': 1079, '눅': 1080, '랏': 1081, '벼': 1082, '뺑': 1083, '짖': 1084, '밟': 1085, '맺': 1086, '륵': 1087, '텅': 1088, '켈': 1089, '꽥': 1090, '툰': 1091, '꿰': 1092, '뱅': 1093, 'ㅍ': 1094, '횡': 1095, '됴': 1096, '꺄': 1097, '욬': 1098, '쟈': 1099, '좆': 1100, '휼': 1101, '둔': 1102, '줫': 1103, '엮': 1104, '턱': 1105, '릉': 1106, '릎': 1107, '헉': 1108, '꾹': 1109, '쌈': 1110, '끓': 1111, '꽉': 1112, '쏙': 1113, '긁': 1114, '잣': 1115, '숫': 1116, '곁': 1117, '룹': 1118, '꿋': 1119, '푼': 1120, '췌': 1121, '랩': 1122, '렸': 1123, '탭': 1124, '삽': 1125, '딨': 1126, '팜': 1127, '쪙': 1128, '릅': 1129, 'ㅃ': 1130, '뵙': 1131, '톨': 1132, '녁': 1133, '삘': 1134, '솟': 1135, '쨩': 1136, '묶': 1137, '얹': 1138, '앓': 1139, '텀': 1140, '랴': 1141, '뜸': 1142, '캡': 1143, '팽': 1144, '슐': 1145, 'ㅌ': 1146, '흙': 1147, '젓': 1148, '웩': 1149, '깽': 1150, '햐': 1151, '귄': 1152, '넝': 1153, '잎': 1154, '궈': 1155, '쌔': 1156, '펄': 1157, '눌': 1158, '윗': 1159, '댕': 1160, '쥑': 1161, '엎': 1162, '멎': 1163, '멧': 1164, '놨': 1165, '쌤': 1166, '몹': 1167, '꼼': 1168, '뺴': 1169, '쑤': 1170, '갸': 1171, '훔': 1172, '샷': 1173, '쿄': 1174, 'ㅕ': 1175, '뻗': 1176, '뉘': 1177, '힛': 1178, '웠': 1179, '헝': 1180, '쉰': 1181, '콥': 1182, '쉣': 1183, '쉴': 1184, '핍': 1185, '펭': 1186, '귓': 1187, '뻘': 1188, '렘': 1189, '첸': 1190, '쒸': 1191, '컵': 1192, '쫙': 1193, '샴': 1194, '씌': 1195, '옵': 1196, '뤽': 1197, '딪': 1198, '셨': 1199, '굵': 1200, '쁜': 1201, '뚫': 1202, '돕': 1203, '놉': 1204, '뜯': 1205, '쫒': 1206, '썻': 1207, '쬐': 1208, '괘': 1209, '꼇': 1210, '쨰': 1211, '휙': 1212, '댜': 1213, '쳇': 1214, '넼': 1215, '겸': 1216, '펏': 1217, '늠': 1218, '뒹': 1219, '넥': 1220, '롬': 1221, '짚': 1222, '욧': 1223, '쉘': 1224, '햄': 1225, '멕': 1226, '홉': 1227, '솜': 1228, 'ㅔ': 1229, '슥': 1230, '잌': 1231, '믄': 1232, '홈': 1233, '웹': 1234, '탠': 1235, '괸': 1236, '놔': 1237, '뱃': 1238, '섀': 1239, '낡': 1240, '끽': 1241, '닳': 1242, '뱉': 1243, '쮸': 1244, '탤': 1245, '헠': 1246, '썪': 1247, '딛': 1248, '쵸': 1249, '땟': 1250, '붉': 1251, '왈': 1252, '퀘': 1253, '퍽': 1254, '앳': 1255, '봐': 1256, '읎': 1257, '휩': 1258, '찐': 1259, '퉷': 1260, '얌': 1261, '젬': 1262, '픈': 1263, '뷁': 1264, '쨋': 1265, '쿼': 1266, '궤': 1267, '좁': 1268, '갚': 1269, '룽': 1270, '쌀': 1271, '뎈': 1272, '욯': 1273, '슛': 1274, 'ㅛ': 1275, '툴': 1276, '웽': 1277, '홬': 1278, '샹': 1279, '칵': 1280, '얽': 1281, '떔': 1282, '좃': 1283, '얕': 1284, '뺨': 1285, '겜': 1286, '쟤': 1287, '킷': 1288, '슌': 1289, '촉': 1290, '겄': 1291, '륨': 1292, '뤠': 1293, '듀': 1294, '룬': 1295, '넴': 1296, '윙': 1297, '빽': 1298, '벡': 1299, '갤': 1300, '겅': 1301, '뭍': 1302, '녜': 1303, '젝': 1304, '퀵': 1305, '샌': 1306, '훑': 1307, '흰': 1308, '죵': 1309, '낰': 1310, '냔': 1311, '뮬': 1312, '멌': 1313, '벳': 1314, '쒯': 1315, '쑈': 1316, '읊': 1317, '뇨': 1318, '꺾': 1319, '귯': 1320, '뇬': 1321, '싯': 1322, '읏': 1323, '캴': 1324, '졷': 1325, '숴': 1326, '욘': 1327, '룻': 1328, '햌': 1329, '잏': 1330, '뻐': 1331, '촛': 1332, '띵': 1333, '찟': 1334, '굽': 1335, '뀨': 1336, '뿡': 1337, '떙': 1338, '뫼': 1339, '썅': 1340, '쨔': 1341, '씽': 1342, '밈': 1343, '멓': 1344, '곸': 1345, '꺅': 1346, '옼': 1347, '앰': 1348, 'ㅑ': 1349, '숏': 1350, '몆': 1351, '숍': 1352, '큘': 1353, '앱': 1354, '뜰': 1355, '챔': 1356, '넉': 1357, '낱': 1358, '땃': 1359, '멱': 1360, '웜': 1361, '팟': 1362, '씻': 1363, '셸': 1364, '꼐': 1365, '훤': 1366, '얀': 1367, '맷': 1368, '쫘': 1369, '샬': 1370, '쪄': 1371, '밨': 1372, '펀': 1373, '웁': 1374, '깟': 1375, '냠': 1376, '홥': 1377, '쑥': 1378, '괄': 1379, '밭': 1380, '둗': 1381, '촤': 1382, '뤼': 1383, '넨': 1384, '녘': 1385, '쾅': 1386, '줏': 1387, '썬': 1388, '짙': 1389, '쭝': 1390, '돗': 1391, '엨': 1392, '댇': 1393, '촐': 1394, '꾀': 1395, '닏': 1396, '쀍': 1397, '빳': 1398, '잦': 1399, '힣': 1400, '융': 1401, '넋': 1402, '굼': 1403, 'ㅝ': 1404, '씸': 1405, '놕': 1406, '븜': 1407, '팻': 1408, '맬': 1409, '뿅': 1410, '꽹': 1411, '맟': 1412, '젯': 1413, '껒': 1414, '훅': 1415, '꿉': 1416, '렙': 1417, '쟝': 1418, '셩': 1419, '갯': 1420, '꺠': 1421, '줘': 1422, '붐': 1423, '졓': 1424, '븅': 1425, '횟': 1426, '쯩': 1427, '럿': 1428, '탬': 1429, '엊': 1430, '될': 1431, '옅': 1432, '뎌': 1433, 'ㅘ': 1434, '뤄': 1435, '먀': 1436, '녔': 1437, '꿇': 1438, '졉': 1439, '휠': 1440, '옄': 1441, '닛': 1442, '웤': 1443, '떵': 1444, '썽': 1445, '퀸': 1446, '졐': 1447, '롹': 1448, '얇': 1449, '졈': 1450, '몃': 1451, '괞': 1452, '읃': 1453, '겔': 1454, '헥': 1455, '꿔': 1456, '컾': 1457, '텁': 1458, '왼': 1459, '츰': 1460, '껌': 1461, '롸': 1462, '밷': 1463, '샛': 1464, '쿰': 1465, '닠': 1466, '엏': 1467, '웡': 1468, '팁': 1469, '쏜': 1470, '좔': 1471, '덟': 1472, '딥': 1473, '쳣': 1474, '븨': 1475, '헵': 1476, '핰': 1477, '줠': 1478, '횽': 1479, '댁': 1480, '섥': 1481, '삑': 1482, '돱': 1483, '쥰': 1484, '싼': 1485, 'ㄻ': 1486, '튬': 1487, '숩': 1488, '뒌': 1489, '곪': 1490, '깻': 1491, '빤': 1492, '쫭': 1493, '썁': 1494, '읔': 1495, '죈': 1496, '텍': 1497, '칰': 1498, '팸': 1499, '썹': 1500, '젆': 1501, '뿍': 1502, '뗼': 1503, '삔': 1504, '쥤': 1505, '땓': 1506, '벋': 1507, '쉅': 1508, '렄': 1509, '뚯': 1510, '늡': 1511, '땨': 1512, '좉': 1513, '먄': 1514, '뫁': 1515, '떈': 1516, '셴': 1517, '륺': 1518, '삤': 1519, '쁀': 1520, '썡': 1521, '폇': 1522, '쟄': 1523, '댖': 1524, '촣': 1525, '뇽': 1526, '빰': 1527, '쿤': 1528, '릳': 1529, '춥': 1530, '셍': 1531, '쁩': 1532, '쯗': 1533, '씝': 1534, '혔': 1535, '랃': 1536, '혓': 1537, '듸': 1538, '읺': 1539, '죷': 1540, '퐝': 1541, '뺠': 1542, '덯': 1543, '콱': 1544, '뜽': 1545, '꿧': 1546, '뎟': 1547, '뎄': 1548, '츼': 1549, '둣': 1550, '쫑': 1551, '콬': 1552, '왘': 1553, '랰': 1554, '횐': 1555, '쇅': 1556, '춫': 1557, '뭬': 1558, '늗': 1559, 'ㅀ': 1560, '춰': 1561, '쉩': 1562, '쳬': 1563, '놰': 1564, '걔': 1565, '캢': 1566, '캉': 1567, '듁': 1568, '삥': 1569, '벹': 1570, '쉿': 1571, '짴': 1572, '쎼': 1573, '앟': 1574, '앚': 1575, '륄': 1576, '퇘': 1577, '쥴': 1578, '훜': 1579, '쉡': 1580, '몀': 1581, '놧': 1582, '껑': 1583, '섳': 1584, '섲': 1585, '쌉': 1586, '얺': 1587, '덫': 1588, '뼛': 1589, '숟': 1590, '맄': 1591, '겋': 1592, '겡': 1593, '싑': 1594, '쫗': 1595, '툥': 1596, '쮜': 1597, '죗': 1598, '쉼': 1599, '뭄': 1600, '뽐': 1601, '옘': 1602, '롄': 1603, '슘': 1604, '밎': 1605, '귤': 1606, '솝': 1607, '앀': 1608, '릐': 1609, '캄': 1610, '뗬': 1611, '핯': 1612, '궐': 1613, '펫': 1614, '됏': 1615, '잫': 1616, '끋': 1617, '넖': 1618, '칩': 1619, '헴': 1620, '깩': 1621, '팰': 1622, '겈': 1623, '깄': 1624, '탉': 1625, '훡': 1626, '짭': 1627, '잛': 1628, '쌘': 1629, '닯': 1630, '욥': 1631, '웸': 1632, '넀': 1633, '챠': 1634, '봑': 1635, '뎃': 1636, '넿': 1637, '빋': 1638, '걘': 1639, '뛴': 1640, 'ㄸ': 1641, '볶': 1642, '짦': 1643, '츈': 1644, '갵': 1645, '힝': 1646, '겂': 1647, '늄': 1648, '돔': 1649, '쩖': 1650, '슾': 1651, '낸': 1652, '빕': 1653, '샐': 1654, '엾': 1655, '낑': 1656, '깅': 1657, '밓': 1658, '쳫': 1659, '킁': 1660, '줔': 1661, '퐈': 1662, '갔': 1663, '뚠': 1664, '뚤': 1665, '졌': 1666, '샾': 1667, '냇': 1668, '죙': 1669, '믓': 1670, 'ㅢ': 1671, '셑': 1672, '끅': 1673, '늨': 1674, '휏': 1675, '홯': 1676, '셐': 1677, '옐': 1678, '툼': 1679, '쎅': 1680, '꼰': 1681, '흳': 1682, '앍': 1683, '졍': 1684, '핶': 1685, '촘': 1686, '섻': 1687, '밬': 1688, '햅': 1689, '갬': 1690, '엪': 1691, '읆': 1692, '툿': 1693, '칀': 1694, '홐': 1695, '뱌': 1696, '갂': 1697, '괭': 1698, '짘': 1699, '섿': 1700, '깈': 1701, '뱆': 1702, '앋': 1703, '늪': 1704, '늣': 1705, '굯': 1706, '뵐': 1707, '쨘': 1708, '윖': 1709, '돠': 1710, '믜': 1711, '띤': 1712, '흝': 1713, '뽄': 1714, '맵': 1715, '봘': 1716, '넒': 1717, '눙': 1718, '녈': 1719, '흩': 1720, '훠': 1721, '솧': 1722, '됨': 1723, '넛': 1724, '캇': 1725, '츙': 1726, '봭': 1727, '첵': 1728, '뇾': 1729, '캣': 1730, '쨓': 1731, '쉑': 1732, '헀': 1733, '썌': 1734, '싐': 1735, '맏': 1736, '죨': 1737, '뒈': 1738, '읭': 1739, '긌': 1740, '윔': 1741, '돜': 1742, '겤': 1743, '끙': 1744, '텨': 1745, '꽦': 1746, '뽜': 1747, '뱔': 1748, '볓': 1749, '뵨': 1750, '쥇': 1751, '켁': 1752, '딤': 1753, '핟': 1754, '땁': 1755, '솓': 1756, '믕': 1757, '챗': 1758, '왔': 1759, '흣': 1760, '흫': 1761, '얍': 1762, '랔': 1763, '쪈': 1764, '캘': 1765, '좠': 1766, '땔': 1767, '엓': 1768, '쓔': 1769, '봙': 1770, '귬': 1771, '옇': 1772, '쩃': 1773, '쟎': 1774, '뽈': 1775, '잿': 1776, '끚': 1777, '빔': 1778, '쒰': 1779, '솰': 1780, '딫': 1781, '롷': 1782, '믈': 1783, '쯥': 1784, '즙': 1785, '셤': 1786, '윅': 1787, '옜': 1788, '좇': 1789, '봵': 1790, '얔': 1791, '홙': 1792, '쨉': 1793, '쫏': 1794, '뤡': 1795, '엢': 1796, '핮': 1797, '궅': 1798, '츽': 1799, '봔': 1800, '겝': 1801, '픕': 1802}\n"
     ]
    }
   ],
   "source": [
    "print(tokenizer.word_index)"
   ]
  },
  {
   "cell_type": "code",
   "execution_count": 109,
   "id": "bc01922d",
   "metadata": {},
   "outputs": [
    {
     "name": "stdout",
     "output_type": "stream",
     "text": [
      "단어 집합(vocabulary)의 크기 : 1802\n",
      "등장 빈도가 2번 이하인 희귀 단어의 수: 420\n",
      "단어 집합에서 희귀 단어의 비율: 23.307436182019977\n",
      "전체 등장 빈도에서 희귀 단어 등장 빈도 비율: 0.03978494787562097\n"
     ]
    }
   ],
   "source": [
    "threshold = 3\n",
    "total_cnt = len(tokenizer.word_index) # 단어의 수\n",
    "rare_cnt = 0 # 등장 빈도수가 threshold보다 작은 단어의 개수를 카운트\n",
    "total_freq = 0 # 훈련 데이터의 전체 단어 빈도수 총 합\n",
    "rare_freq = 0 # 등장 빈도수가 threshold보다 작은 단어의 등장 빈도수의 총 합\n",
    "\n",
    "# 단어와 빈도수의 쌍(pair)을 key와 value로 받는다.\n",
    "for key, value in tokenizer.word_counts.items():\n",
    "    total_freq = total_freq + value\n",
    "\n",
    "    # 단어의 등장 빈도수가 threshold보다 작으면\n",
    "    if(value < threshold):\n",
    "        rare_cnt = rare_cnt + 1\n",
    "        rare_freq = rare_freq + value\n",
    "\n",
    "print('단어 집합(vocabulary)의 크기 :',total_cnt)\n",
    "print('등장 빈도가 %s번 이하인 희귀 단어의 수: %s'%(threshold - 1, rare_cnt))\n",
    "print(\"단어 집합에서 희귀 단어의 비율:\", (rare_cnt / total_cnt)*100)\n",
    "print(\"전체 등장 빈도에서 희귀 단어 등장 빈도 비율:\", (rare_freq / total_freq)*100)"
   ]
  },
  {
   "cell_type": "code",
   "execution_count": 110,
   "id": "2e9d2ad7",
   "metadata": {},
   "outputs": [
    {
     "name": "stdout",
     "output_type": "stream",
     "text": [
      "단어 집합의 크기 : 1383\n"
     ]
    }
   ],
   "source": [
    "# 전체 단어 개수 중 빈도수 2이하인 단어는 제거.\n",
    "# 0번 패딩 토큰을 고려하여 + 1\n",
    "vocab_size = total_cnt - rare_cnt + 1\n",
    "print('단어 집합의 크기 :',vocab_size)"
   ]
  },
  {
   "cell_type": "code",
   "execution_count": 111,
   "id": "c2f90c48",
   "metadata": {},
   "outputs": [],
   "source": [
    "tokenizer = Tokenizer(vocab_size) \n",
    "tokenizer.fit_on_texts(X_train)\n",
    "X_train = tokenizer.texts_to_sequences(X_train)\n",
    "X_test = tokenizer.texts_to_sequences(X_test)"
   ]
  },
  {
   "cell_type": "code",
   "execution_count": 112,
   "id": "542852f9",
   "metadata": {},
   "outputs": [
    {
     "name": "stdout",
     "output_type": "stream",
     "text": [
      "[[689, 9, 28, 43], [169, 315, 518, 25, 382, 10, 206, 1, 84], [205, 154, 1148, 71, 961, 3]]\n"
     ]
    }
   ],
   "source": [
    "#정수인코딩 확인\n",
    "print(X_train[:3])"
   ]
  },
  {
   "cell_type": "code",
   "execution_count": 113,
   "id": "96a1a7f5",
   "metadata": {},
   "outputs": [],
   "source": [
    "y_train = np.array(train_data['label'])\n",
    "y_test = np.array(test_data['label'])"
   ]
  },
  {
   "cell_type": "code",
   "execution_count": 116,
   "id": "5321fe91",
   "metadata": {},
   "outputs": [
    {
     "name": "stdout",
     "output_type": "stream",
     "text": [
      "28960\n",
      "28960\n"
     ]
    }
   ],
   "source": [
    "# 빈도수 적은 단어들 삭제해서 빈 샘플들이 생겼음. 이를 다시 제거\n",
    "drop_train = [index for index, sentence in enumerate(X_train) if len(sentence) < 1]\n",
    "X_train = np.delete(X_train, drop_train, axis=0)\n",
    "y_train = np.delete(y_train, drop_train, axis=0)\n",
    "print(len(X_train))\n",
    "print(len(y_train))"
   ]
  },
  {
   "cell_type": "code",
   "execution_count": 117,
   "id": "677a62c5",
   "metadata": {},
   "outputs": [
    {
     "name": "stdout",
     "output_type": "stream",
     "text": [
      "리뷰의 최대 길이 : 49\n",
      "리뷰의 평균 길이 : 8.602417127071822\n"
     ]
    },
    {
     "data": {
      "image/png": "[encoded data removed]",
      "text/plain": [
       "<Figure size 432x288 with 1 Axes>"
      ]
     },
     "metadata": {
      "needs_background": "light"
     },
     "output_type": "display_data"
    }
   ],
   "source": [
    "#패딩하기 전에 문장길이 분포부터 확인\n",
    "print('리뷰의 최대 길이 :',max(len(l) for l in X_train))\n",
    "print('리뷰의 평균 길이 :',sum(map(len, X_train))/len(X_train))\n",
    "plt.hist([len(s) for s in X_train], bins=50)\n",
    "plt.xlabel('length of samples')\n",
    "plt.ylabel('number of samples')\n",
    "plt.show()"
   ]
  },
  {
   "cell_type": "code",
   "execution_count": 120,
   "id": "b71bbd4a",
   "metadata": {},
   "outputs": [],
   "source": [
    "#지정한 길이 이상길이 샘플 삭제\n",
    "def below_threshold_len(max_len, nested_list):\n",
    "  cnt = 0\n",
    "  for s in nested_list:\n",
    "    if(len(s) <= max_len):\n",
    "        cnt = cnt + 1\n",
    "  print('전체 샘플 중 길이가 %s 이하인 샘플의 비율: %s'%(max_len, (cnt / len(nested_list))*100))"
   ]
  },
  {
   "cell_type": "code",
   "execution_count": 119,
   "id": "d8046f04",
   "metadata": {},
   "outputs": [
    {
     "name": "stdout",
     "output_type": "stream",
     "text": [
      "전체 샘플 중 길이가 30 이하인 샘플의 비율: 97.73480662983425\n"
     ]
    }
   ],
   "source": [
    "max_len = 30\n",
    "below_threshold_len(max_len, X_train)"
   ]
  },
  {
   "cell_type": "code",
   "execution_count": 121,
   "id": "e8cd939e",
   "metadata": {},
   "outputs": [],
   "source": [
    "X_train = pad_sequences(X_train, maxlen = max_len)\n",
    "X_test = pad_sequences(X_test, maxlen = max_len)"
   ]
  },
  {
   "cell_type": "code",
   "execution_count": 33,
   "id": "6288a4c6",
   "metadata": {},
   "outputs": [],
   "source": [
    "#lstm으로 네이버 영화 리뷰 감성 분류하기"
   ]
  },
  {
   "cell_type": "code",
   "execution_count": 34,
   "id": "38f6006a",
   "metadata": {},
   "outputs": [],
   "source": [
    "from tensorflow.keras.layers import Embedding, Dense, LSTM\n",
    "from tensorflow.keras.models import Sequential\n",
    "from tensorflow.keras.models import load_model\n",
    "from tensorflow.keras.callbacks import EarlyStopping, ModelCheckpoint"
   ]
  },
  {
   "cell_type": "code",
   "execution_count": 122,
   "id": "0113d252",
   "metadata": {},
   "outputs": [],
   "source": [
    "model = Sequential()\n",
    "model.add(Embedding(vocab_size, 100))\n",
    "model.add(LSTM(128))\n",
    "model.add(Dense(1, activation='sigmoid'))"
   ]
  },
  {
   "cell_type": "code",
   "execution_count": 123,
   "id": "fc2623e4",
   "metadata": {},
   "outputs": [],
   "source": [
    "es = EarlyStopping(monitor='val_loss', mode='min', verbose=1, patience=4)\n",
    "mc = ModelCheckpoint('best_model.h5', monitor='val_acc', mode='max', verbose=1, save_best_only=True)"
   ]
  },
  {
   "cell_type": "code",
   "execution_count": 124,
   "id": "b136a433",
   "metadata": {},
   "outputs": [
    {
     "name": "stdout",
     "output_type": "stream",
     "text": [
      "Epoch 1/15\n",
      "387/387 [==============================] - 17s 41ms/step - loss: 0.4664 - acc: 0.7757 - val_loss: 0.4314 - val_acc: 0.7956\n",
      "\n",
      "Epoch 00001: val_acc improved from -inf to 0.79558, saving model to best_model.h5\n",
      "Epoch 2/15\n",
      "387/387 [==============================] - 13s 34ms/step - loss: 0.3905 - acc: 0.8222 - val_loss: 0.4185 - val_acc: 0.8101\n",
      "\n",
      "Epoch 00002: val_acc improved from 0.79558 to 0.81008, saving model to best_model.h5\n",
      "Epoch 3/15\n",
      "387/387 [==============================] - 13s 34ms/step - loss: 0.3752 - acc: 0.8313 - val_loss: 0.4260 - val_acc: 0.8090\n",
      "\n",
      "Epoch 00003: val_acc did not improve from 0.81008\n",
      "Epoch 4/15\n",
      "387/387 [==============================] - 13s 32ms/step - loss: 0.3601 - acc: 0.8390 - val_loss: 0.4080 - val_acc: 0.8182\n",
      "\n",
      "Epoch 00004: val_acc improved from 0.81008 to 0.81820, saving model to best_model.h5\n",
      "Epoch 5/15\n",
      "387/387 [==============================] - 13s 32ms/step - loss: 0.3451 - acc: 0.8456 - val_loss: 0.4038 - val_acc: 0.8182\n",
      "\n",
      "Epoch 00005: val_acc did not improve from 0.81820\n",
      "Epoch 6/15\n",
      "387/387 [==============================] - 13s 32ms/step - loss: 0.3305 - acc: 0.8524 - val_loss: 0.4099 - val_acc: 0.8199\n",
      "\n",
      "Epoch 00006: val_acc improved from 0.81820 to 0.81992, saving model to best_model.h5\n",
      "Epoch 7/15\n",
      "387/387 [==============================] - 15s 38ms/step - loss: 0.3188 - acc: 0.8596 - val_loss: 0.4314 - val_acc: 0.8179\n",
      "\n",
      "Epoch 00007: val_acc did not improve from 0.81992\n",
      "Epoch 8/15\n",
      "387/387 [==============================] - 16s 42ms/step - loss: 0.3083 - acc: 0.8653 - val_loss: 0.4267 - val_acc: 0.8111\n",
      "\n",
      "Epoch 00008: val_acc did not improve from 0.81992\n",
      "Epoch 9/15\n",
      "387/387 [==============================] - 15s 39ms/step - loss: 0.2958 - acc: 0.8717 - val_loss: 0.4364 - val_acc: 0.7964\n",
      "\n",
      "Epoch 00009: val_acc did not improve from 0.81992\n",
      "Epoch 00009: early stopping\n"
     ]
    }
   ],
   "source": [
    "model.compile(optimizer='rmsprop', loss='binary_crossentropy', metrics=['acc'])\n",
    "history = model.fit(X_train, y_train, epochs=15, callbacks=[es, mc], batch_size=60, validation_split=0.2)"
   ]
  },
  {
   "cell_type": "code",
   "execution_count": 128,
   "id": "225c852a",
   "metadata": {
    "scrolled": false
   },
   "outputs": [
    {
     "name": "stdout",
     "output_type": "stream",
     "text": [
      "WARNING:tensorflow:5 out of the last 883 calls to <function Model.make_test_function.<locals>.test_function at 0x0000012620B4A940> triggered tf.function retracing. Tracing is expensive and the excessive number of tracings could be due to (1) creating @tf.function repeatedly in a loop, (2) passing tensors with different shapes, (3) passing Python objects instead of tensors. For (1), please define your @tf.function outside of the loop. For (2), @tf.function has experimental_relax_shapes=True option that relaxes argument shapes that can avoid unnecessary retracing. For (3), please refer to https://www.tensorflow.org/guide/function#controlling_retracing and https://www.tensorflow.org/api_docs/python/tf/function for  more details.\n",
      "3/3 [==============================] - 0s 14ms/step - loss: 0.7210 - acc: 0.6905\n",
      "\n",
      " 테스트 정확도: 0.6905\n"
     ]
    }
   ],
   "source": [
    "loaded_model = load_model('best_model.h5')\n",
    "print(\"\\n 테스트 정확도: %.4f\" % (loaded_model.evaluate(X_test, y_test)[1]))"
   ]
  },
  {
   "cell_type": "code",
   "execution_count": 142,
   "id": "730206e9",
   "metadata": {},
   "outputs": [],
   "source": [
    "#파일 넣으면 알아서 해주는 모델 만들기\n",
    "def sentiment_predict(new_sentence):\n",
    "    new_sentence = okt.morphs(new_sentence, stem=True) # 토큰화\n",
    "    new_sentence = [word for word in new_sentence if not word in stopwords] # 불용어 제거\n",
    "    encoded = tokenizer.texts_to_sequences([new_sentence]) # 정수 인코딩\n",
    "    pad_new = pad_sequences(encoded, maxlen = max_len) # 패딩\n",
    "    score = float(loaded_model.predict(pad_new)) # 예측\n",
    "    #if(score > 0.5):\n",
    "    #  print(\"{:.2f}% 확률로 긍정 리뷰입니다.\\n\".format(score * 100))\n",
    "    #else:\n",
    "    #  print(\"{:.2f}% 확률로 부정 리뷰입니다.\\n\".format((1 - score) * 100))\n",
    "    return score"
   ]
  },
  {
   "cell_type": "code",
   "execution_count": 148,
   "id": "5efedae0",
   "metadata": {},
   "outputs": [
    {
     "name": "stderr",
     "output_type": "stream",
     "text": [
      "<ipython-input-148-c19356276ac3>:5: SettingWithCopyWarning: \n",
      "A value is trying to be set on a copy of a slice from a DataFrame\n",
      "\n",
      "See the caveats in the documentation: https://pandas.pydata.org/pandas-docs/stable/user_guide/indexing.html#returning-a-view-versus-a-copy\n",
      "  webtoon_comment['document'][k] = re.sub(\"BEST\", \"\", webtoon_comment['document'][k])\n",
      "<ipython-input-148-c19356276ac3>:7: FutureWarning: The default value of regex will change from True to False in a future version.\n",
      "  webtoon_comment['document'] = webtoon_comment['document'].str.replace(\"[^ㄱ-ㅎㅏ-ㅣ가-힣 ]\",\"\") # 정규 표현식 수행\n"
     ]
    },
    {
     "data": {
      "text/html": [
       "<div>\n",
       "<style scoped>\n",
       "    .dataframe tbody tr th:only-of-type {\n",
       "        vertical-align: middle;\n",
       "    }\n",
       "\n",
       "    .dataframe tbody tr th {\n",
       "        vertical-align: top;\n",
       "    }\n",
       "\n",
       "    .dataframe thead th {\n",
       "        text-align: right;\n",
       "    }\n",
       "</style>\n",
       "<table border=\"1\" class=\"dataframe\">\n",
       "  <thead>\n",
       "    <tr style=\"text-align: right;\">\n",
       "      <th></th>\n",
       "      <th>id</th>\n",
       "      <th>document</th>\n",
       "      <th>label</th>\n",
       "    </tr>\n",
       "  </thead>\n",
       "  <tbody>\n",
       "    <tr>\n",
       "      <th>0</th>\n",
       "      <td>1</td>\n",
       "      <td>스토리가 완전 별로임이게 조연들 스토리인지 주인공 스토리인지 분간이 안감조연들 이어...</td>\n",
       "      <td>0</td>\n",
       "    </tr>\n",
       "    <tr>\n",
       "      <th>1</th>\n",
       "      <td>1</td>\n",
       "      <td>여신 강림 드라마 어제 오늘 정주행하고 결말보고 행복해졌어요 원작 궁금해서 화부터 ...</td>\n",
       "      <td>1</td>\n",
       "    </tr>\n",
       "    <tr>\n",
       "      <th>2</th>\n",
       "      <td>1</td>\n",
       "      <td>마지막에 반반이 나와서 웃겼어요ㅋㅋㅋㅋㅋ여신강림 오늘 봐서 웃곀요ㅋㅋㅋㅋ</td>\n",
       "      <td>1</td>\n",
       "    </tr>\n",
       "    <tr>\n",
       "      <th>3</th>\n",
       "      <td>1</td>\n",
       "      <td>점점 갈 수록 그림체가 예뻐지면서 이야기는 산으로 가고</td>\n",
       "      <td>0</td>\n",
       "    </tr>\n",
       "    <tr>\n",
       "      <th>4</th>\n",
       "      <td>1</td>\n",
       "      <td>와 얼굴성형화장한건가</td>\n",
       "      <td>1</td>\n",
       "    </tr>\n",
       "    <tr>\n",
       "      <th>...</th>\n",
       "      <td>...</td>\n",
       "      <td>...</td>\n",
       "      <td>...</td>\n",
       "    </tr>\n",
       "    <tr>\n",
       "      <th>83</th>\n",
       "      <td>1</td>\n",
       "      <td>클린봇이 부적절한 표현을 감지한 댓글입니다</td>\n",
       "      <td>0</td>\n",
       "    </tr>\n",
       "    <tr>\n",
       "      <th>84</th>\n",
       "      <td>1</td>\n",
       "      <td>님 죄송한데그러면 화장하지 마세여</td>\n",
       "      <td>1</td>\n",
       "    </tr>\n",
       "    <tr>\n",
       "      <th>85</th>\n",
       "      <td>1</td>\n",
       "      <td>이때 그림체 좋다</td>\n",
       "      <td>1</td>\n",
       "    </tr>\n",
       "    <tr>\n",
       "      <th>86</th>\n",
       "      <td>1</td>\n",
       "      <td>여신강림 쿠키까지 구워서 다보고 볼게 없어서첫화 보러온사람 좋아요 눌러주세요</td>\n",
       "      <td>1</td>\n",
       "    </tr>\n",
       "    <tr>\n",
       "      <th>87</th>\n",
       "      <td>1</td>\n",
       "      <td>와 진짜 예쁘다 그림체 갠적으로 옛날그림체가 너무 츄ㅣ향 ㅠㅠ</td>\n",
       "      <td>1</td>\n",
       "    </tr>\n",
       "  </tbody>\n",
       "</table>\n",
       "<p>88 rows × 3 columns</p>\n",
       "</div>"
      ],
      "text/plain": [
       "    id                                           document  label\n",
       "0    1  스토리가 완전 별로임이게 조연들 스토리인지 주인공 스토리인지 분간이 안감조연들 이어...      0\n",
       "1    1  여신 강림 드라마 어제 오늘 정주행하고 결말보고 행복해졌어요 원작 궁금해서 화부터 ...      1\n",
       "2    1           마지막에 반반이 나와서 웃겼어요ㅋㅋㅋㅋㅋ여신강림 오늘 봐서 웃곀요ㅋㅋㅋㅋ      1\n",
       "3    1                     점점 갈 수록 그림체가 예뻐지면서 이야기는 산으로 가고      0\n",
       "4    1                                        와 얼굴성형화장한건가      1\n",
       "..  ..                                                ...    ...\n",
       "83   1                            클린봇이 부적절한 표현을 감지한 댓글입니다      0\n",
       "84   1                                 님 죄송한데그러면 화장하지 마세여      1\n",
       "85   1                                          이때 그림체 좋다      1\n",
       "86   1         여신강림 쿠키까지 구워서 다보고 볼게 없어서첫화 보러온사람 좋아요 눌러주세요      1\n",
       "87   1                 와 진짜 예쁘다 그림체 갠적으로 옛날그림체가 너무 츄ㅣ향 ㅠㅠ      1\n",
       "\n",
       "[88 rows x 3 columns]"
      ]
     },
     "execution_count": 148,
     "metadata": {},
     "output_type": "execute_result"
    }
   ],
   "source": [
    "#댓글 불러운 뒤 앞에 best글자 없애기\n",
    "webtoon_comment = pd.read_table(\"여신강림1회_댓글라벨링.txt\", encoding='cp949')\n",
    "\n",
    "for k in range(0,len(webtoon_comment['document'])):\n",
    "    webtoon_comment['document'][k] = re.sub(\"BEST\", \"\", webtoon_comment['document'][k])\n",
    "\n",
    "webtoon_comment['document'] = webtoon_comment['document'].str.replace(\"[^ㄱ-ㅎㅏ-ㅣ가-힣 ]\",\"\") # 정규 표현식 수행\n",
    "\n",
    "webtoon_comment"
   ]
  },
  {
   "cell_type": "code",
   "execution_count": 146,
   "id": "6dc78057",
   "metadata": {
    "scrolled": true
   },
   "outputs": [
    {
     "name": "stdout",
     "output_type": "stream",
     "text": [
      "스토리가 완전 별로임이게 조연들 스토리인지 주인공 스토리인지 분간이 안감조연들 이어주느라 막상 주인공들은 이어지지도 않음\n",
      "0.03334325551986694\n",
      "여신 강림 드라마 어제 오늘 정주행하고 결말보고 행복해졌어요 원작 궁금해서 화부터 달립니다\n",
      "0.8293551206588745\n",
      "마지막에 반반이 나와서 웃겼어요ㅋㅋㅋㅋㅋ여신강림 오늘 봐서 웃곀요ㅋㅋㅋㅋ\n",
      "0.9824886322021484\n",
      "점점 갈 수록 그림체가 예뻐지면서 이야기는 산으로 가고\n",
      "0.2234291136264801\n",
      "와 얼굴성형화장한건가\n",
      "0.2000611424446106\n",
      "한이 한서이라는게 학교의 점심\n",
      "0.36381804943084717\n",
      "그래 이제 난 이 웹툰 그냥 그림 보는 정도로만 보고있을래솔직히 프롤로그가 제일 나았다\n",
      "0.5118952393531799\n",
      "페미들 점령했노ㅠ\n",
      "0.6785858869552612\n",
      "ㅋ\n",
      "0.7209915518760681\n",
      "야옹이님 펜이에요\n",
      "0.8989547491073608\n",
      "ㅌㅋㅋㅋㅋㅋㅋ\n",
      "0.4773913323879242\n",
      "클린봇이 부적절한 표현을 감지한 댓글입니다\n",
      "0.5129712224006653\n",
      "와진짜프롤로그부터너무 재밌어이런 띵작 보여주셔서 감사합니다\n",
      "0.9970318675041199\n",
      "역시 여신강림 첫 회부터가 짱이다너무 재밌게 보고 있답니다\n",
      "0.9924907088279724\n",
      "너무재미있어요작가님\n",
      "0.8530915975570679\n",
      "걍 핵피엔딩 내고 끝내라\n",
      "0.4840293824672699\n",
      "와 예전에 보고 못봤는데 오랜만이다\n",
      "0.6609330773353577\n",
      "처음이때까지만 해도 좋았는데\n",
      "0.8959752917289734\n",
      "야옹이 작가님잠깐동안 그림 저장하겠습니다죄송합니다\n",
      "0.40013399720191956\n",
      "남친있냐고물어본 아이돌은 생각이 있는건가\n",
      "0.3847324252128601\n",
      "솔까 이작품 첫시작은 레알 괜찮았는데 갈수록 여주도 별로고 ㅈㄴ 답답함 서브가 개불쌍하게 나오고 ㄹㅇ 쿠키 지르기가 아까움\n",
      "0.002808213233947754\n",
      "지금 보니까 프롤로그에 비해 스토리라인이 너무 많이 벗어났네ㅋㅋㅋㅋ\n",
      "0.8292458057403564\n",
      "와 나도 저렇게 되고 싶다 화장하는 거 중국 사람 급\n",
      "0.20451724529266357\n",
      "님들 이거 보려면 휴재하기 전까지만 보고 휴재후 회차들은 보지마세요 스토리 급도 아니고 급이고 작화도 이상해집니다\n",
      "0.11714375019073486\n",
      "쓰레기 웹툰 중에 원탑\n",
      "0.024669229984283447\n",
      "옛날이 그립다\n",
      "0.46599704027175903\n",
      "프롤로그의 주경이는 당당하고 자신감있어 보이는데 화부터 지금까지는 성격이 전혀 이렇지않음 같은 인물인데 성격이 왜 다르죠ㅋㅋ\n",
      "0.4310941696166992\n",
      "몸매가 좋으니 화장이 먹히는거\n",
      "0.6450988054275513\n",
      "와 화장 하나로 이렇게 변하니 놀랍네\n",
      "0.6673334836959839\n",
      "근데 일단 눈 피부 빼고 다 완성형임\n",
      "0.6523757576942444\n",
      "정주행하는 사람들 들으시오 일단 이 웹툰이 평점이 저조한건작가님의 지각이나 스토리의 답답함도 있지만 무작정 별점 깍아내리는 그분들이 한 몫을 하고 있다오작가님이 말도 안되는 여신이라 탈코르셋을 외쳐대는 그분들의 면상이 별점테러를 하고있소부디 편견없이 재밌게 봐주시길\n",
      "0.5576186180114746\n",
      "두번째 댓글에 싫어요 많은 이유좀\n",
      "0.03626680374145508\n",
      "클린봇이 부적절한 표현을 감지한 댓글입니다\n",
      "0.5129712224006653\n",
      "선넘네\n",
      "0.7659744620323181\n",
      "ㄱ그래도 몸매부터 피부 얼굴형헤어는 완벽하다\n",
      "0.892262876033783\n",
      "화장해서 예쁜거 티 안나나 ㅋ 과장이 심한거 같긴한데\n",
      "0.017664283514022827\n",
      "화장잘하나보네\n",
      "0.6347290277481079\n",
      "난 솔직히 이때가 좋았어이때는 애들이 학생이여서 오글거리는 대사를 해도 오글거린다보단 귀엽다는 생각이 먼저 들었는데 지금은 그런건없고 오글거린다는 걸 넘어 위화감까지 들어\n",
      "0.1634504199028015\n",
      "아 이런게 진정 개매너임 을보여주는 인간임\n",
      "0.9046250581741333\n",
      "화자빨대박\n",
      "0.6363258361816406\n",
      "아니근데 눈 크기 차이 나는데 다른사람아님\n",
      "0.3461512625217438\n",
      "제가 다시 주행중인데 화장빨 현실가능 ㅋㅋ 저도 화장하면  크흠 \n",
      "0.9285929203033447\n",
      "헉 화장 지우니까 완전 대박이다\n",
      "0.9601211547851562\n",
      "와우\n",
      "0.4773913323879242\n",
      "오늘 첨봐요ㅎㅎ\n",
      "0.7721409797668457\n",
      "난 지금보다 학생때내용이 재밌는데\n",
      "0.9883478879928589\n",
      "마지막의 진짜 얼굴 다름\n",
      "0.9508448839187622\n",
      "여신강림 정주행중\n",
      "0.7661721110343933\n",
      "수호파 심심풀이로 다시 화보니 그림체 차이 확실하다 화고퀄\n",
      "0.639319121837616\n",
      "넘 이뽀원래도 이뽀\n",
      "0.70081627368927\n",
      "이때 작화가 좋았다ㅡ\n",
      "0.8374248147010803\n",
      "임주경 너무 이뽀ㅜㅜ\n",
      "0.8692688941955566\n",
      "바연길사태때 댓글수 여신강림보다 훨씬 높았고 사람도 당연히 더 많이 몰렸을텐데 여신강림위 바연길위다이건 네이버가 순위조작한거다 ㄹㅇ네이버는 이딴 웹툰 밀어주는 짓거리 그만하고 빨리 실제순위공개해라\n",
      "0.038609325885772705\n",
      "초코맛 푸치푸치노는 도대체 뭐임\n",
      "0.20145151019096375\n",
      "정주행해야쥥\n",
      "0.1671343445777893\n",
      "슬픈게 현실로는 안된다는 점\n",
      "0.6374564170837402\n",
      "      \n",
      "0.4773913323879242\n",
      "ㅋ\n",
      "0.7209915518760681\n",
      "다떠나서 솔직히 그림체도 별론데인삐 개심하고 스토리는 쪽났고 말도안되는 전개에 왜이렇게 인기가 많은지 이해불가능 순위 빨리 내줬으면 하는 웹툰 위다 ㄹㅇㅋㅋ\n",
      "0.06863734126091003\n",
      "두번째 배댓 평가하라고 샹겨먹은 얼굴 이러고 있는대 지도 백퍼 아이돌이나 못생긴사람들 품평 한적 백퍼 있음 ㅋㅋㅋ\n",
      "0.07058852910995483\n",
      "흠 화장만으로도 저렇게 된다는건 그냥 몸매 도 좋고 얼굴도 이쁜데 걍 피부가 안좋은듯\n",
      "0.9309588074684143\n",
      "직가님저 정주행 갑니다\n",
      "0.6196197867393494\n",
      "화장빨 여신\n",
      "0.0747612714767456\n",
      "이땐몰랐지 스토리가 개판날걸\n",
      "0.31975555419921875\n",
      "헐 강남이닷\n",
      "0.42252305150032043\n",
      "베스트댓글 첫번째거 반대하는사람 로 투표점여ㅠㅠ쭈경이가 얼마나 여신인데 안그래여\n",
      "0.20236414670944214\n",
      "주경이는 화장으로 여신 소리들어서 좋겠다 나도 화장해서 여신 소리듣고싶다 ㅠㅠ 하지만 내가똥손이라 큼\n",
      "0.3522823452949524\n",
      "잼있네요\n",
      "0.9732431769371033\n",
      "와여신강림은 개월 동안 등이네와\n",
      "0.6800703406333923\n",
      "올만에 보는 여심강림은 꿀잼\n",
      "0.986173689365387\n",
      "와 여신 강림\n",
      "0.29375356435775757\n",
      "년에 온사람 좋아요최근화 보고 온사람도 좋아요를 하싀ㅇ퍽\n",
      "0.9784349203109741\n",
      "와우 정말 재미있군요 하하 제가 웹툰을 잘 안 보는데 이건 정말 저의 인생 웹툰이에요 여신강림 사랑해요\n",
      "0.9905298352241516\n",
      "얼굴 완전 달라\n",
      "0.7978265881538391\n",
      "아니근데 유튜브에 화장 전후 레전드 보면 오히려 현실이 더 비현실적임 베댓이 잘 모르는 듯 ㅋㅋㅋ\n",
      "0.9441225528717041\n",
      "개 ㅁㅊ거네 ㅋ\n",
      "0.34466344118118286\n",
      "이거 완전 반못 반예데\n",
      "0.25859788060188293\n",
      "번째 배뎃 희순아 명작은 뭔 명작이야 ㅋㅋ 스토리를 질질끄는정도가 아니라 스토리가 없는데 명작 ㅇㅈㄹ ㅋㅋ\n",
      "0.975805401802063\n",
      "난 지금보다 학생이었을 때 내용이 더 재밌는데\n",
      "0.9699599742889404\n",
      "이거 틱톡 그거 자냐 나 임주경 못쉥김 여신이다이뻐짐\n",
      "0.9454541206359863\n",
      "벌로\n",
      "0.3093430697917938\n",
      "아주 만족해유\n",
      "0.6611591577529907\n",
      "얼굴은 화장한다 치고 몸매는 뭐지\n",
      "0.01889750361442566\n",
      "클린봇이 부적절한 표현을 감지한 댓글입니다\n",
      "0.5129712224006653\n",
      "님 죄송한데그러면 화장하지 마세여\n",
      "0.16240179538726807\n",
      "이때 그림체 좋다\n",
      "0.9108747243881226\n",
      "여신강림 쿠키까지 구워서 다보고 볼게 없어서첫화 보러온사람 좋아요 눌러주세요\n",
      "0.9153902530670166\n",
      "와 진짜 예쁘다 그림체 갠적으로 옛날그림체가 너무 츄ㅣ향 ㅠㅠ\n",
      "0.9611192941665649\n"
     ]
    }
   ],
   "source": [
    "pred_label=[]\n",
    "for sentence in webtoon_comment['document']:\n",
    "    print(sentence)\n",
    "    print(sentiment_predict(sentence))\n",
    "    if sentiment_predict(sentence) >0.5:\n",
    "        pred_label.append(1)\n",
    "    else :\n",
    "        pred_label.append(0)\n",
    "\n",
    "  #pred_label.append(sentiment_predict(sentence))"
   ]
  },
  {
   "cell_type": "code",
   "execution_count": 152,
   "id": "9cf4fdbd",
   "metadata": {},
   "outputs": [
    {
     "name": "stdout",
     "output_type": "stream",
     "text": [
      "accuracy 0.6818181818181818\n",
      "precision 0.7884615384615384\n",
      "recall 0.7068965517241379\n",
      "f1 0.7454545454545455\n",
      "\n",
      "\n",
      "              precision    recall  f1-score   support\n",
      "\n",
      "           0       0.53      0.63      0.58        30\n",
      "           1       0.79      0.71      0.75        58\n",
      "\n",
      "    accuracy                           0.68        88\n",
      "   macro avg       0.66      0.67      0.66        88\n",
      "weighted avg       0.70      0.68      0.69        88\n",
      "\n",
      "[[19 11]\n",
      " [17 41]]\n",
      "\n",
      "\n"
     ]
    }
   ],
   "source": [
    "import sklearn.metrics as metrics\n",
    "\n",
    "print('accuracy', metrics.accuracy_score(webtoon_comment['label'], pred_label))\n",
    "print('precision', metrics.precision_score(webtoon_comment['label'], pred_label) )\n",
    "print('recall', metrics.recall_score(webtoon_comment['label'], pred_label) )\n",
    "print('f1', metrics.f1_score(webtoon_comment['label'], pred_label) )\n",
    "print()\n",
    "print()\n",
    "print(metrics.classification_report(webtoon_comment['label'], pred_label))\n",
    "print(metrics.confusion_matrix(webtoon_comment['label'], pred_label))\n",
    "print()\n",
    "print()"
   ]
  }
 ],
 "metadata": {
  "kernelspec": {
   "display_name": "Python 3",
   "language": "python",
   "name": "python3"
  },
  "language_info": {
   "codemirror_mode": {
    "name": "ipython",
    "version": 3
   },
   "file_extension": ".py",
   "mimetype": "text/x-python",
   "name": "python",
   "nbconvert_exporter": "python",
   "pygments_lexer": "ipython3",
   "version": "3.8.8"
  }
 },
 "nbformat": 4,
 "nbformat_minor": 5
}
