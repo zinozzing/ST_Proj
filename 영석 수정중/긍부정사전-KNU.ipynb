{
 "cells": [
  {
   "cell_type": "code",
   "execution_count": 4,
   "id": "3fdaa08c",
   "metadata": {},
   "outputs": [
    {
     "data": {
      "text/html": [
       "<div>\n",
       "<style scoped>\n",
       "    .dataframe tbody tr th:only-of-type {\n",
       "        vertical-align: middle;\n",
       "    }\n",
       "\n",
       "    .dataframe tbody tr th {\n",
       "        vertical-align: top;\n",
       "    }\n",
       "\n",
       "    .dataframe thead th {\n",
       "        text-align: right;\n",
       "    }\n",
       "</style>\n",
       "<table border=\"1\" class=\"dataframe\">\n",
       "  <thead>\n",
       "    <tr style=\"text-align: right;\">\n",
       "      <th></th>\n",
       "      <th>word</th>\n",
       "      <th>word_root</th>\n",
       "      <th>polarity</th>\n",
       "    </tr>\n",
       "  </thead>\n",
       "  <tbody>\n",
       "    <tr>\n",
       "      <th>0</th>\n",
       "      <td>(-;</td>\n",
       "      <td>(</td>\n",
       "      <td>1</td>\n",
       "    </tr>\n",
       "    <tr>\n",
       "      <th>1</th>\n",
       "      <td>(;_;)</td>\n",
       "      <td>(;_;)</td>\n",
       "      <td>-1</td>\n",
       "    </tr>\n",
       "    <tr>\n",
       "      <th>2</th>\n",
       "      <td>(^^)</td>\n",
       "      <td>(^^)</td>\n",
       "      <td>1</td>\n",
       "    </tr>\n",
       "    <tr>\n",
       "      <th>3</th>\n",
       "      <td>(^-^)</td>\n",
       "      <td>(^-^)</td>\n",
       "      <td>1</td>\n",
       "    </tr>\n",
       "    <tr>\n",
       "      <th>4</th>\n",
       "      <td>(^^*</td>\n",
       "      <td>(</td>\n",
       "      <td>1</td>\n",
       "    </tr>\n",
       "    <tr>\n",
       "      <th>...</th>\n",
       "      <td>...</td>\n",
       "      <td>...</td>\n",
       "      <td>...</td>\n",
       "    </tr>\n",
       "    <tr>\n",
       "      <th>14838</th>\n",
       "      <td>반신반의하다</td>\n",
       "      <td>반신반의</td>\n",
       "      <td>0</td>\n",
       "    </tr>\n",
       "    <tr>\n",
       "      <th>14839</th>\n",
       "      <td>신비롭다</td>\n",
       "      <td>신비</td>\n",
       "      <td>1</td>\n",
       "    </tr>\n",
       "    <tr>\n",
       "      <th>14840</th>\n",
       "      <td>아리송하다</td>\n",
       "      <td>아리송</td>\n",
       "      <td>-1</td>\n",
       "    </tr>\n",
       "    <tr>\n",
       "      <th>14841</th>\n",
       "      <td>알쏭하다</td>\n",
       "      <td>알쏭하</td>\n",
       "      <td>-1</td>\n",
       "    </tr>\n",
       "    <tr>\n",
       "      <th>14842</th>\n",
       "      <td>알쏭달쏭하다</td>\n",
       "      <td>알쏭달쏭</td>\n",
       "      <td>-1</td>\n",
       "    </tr>\n",
       "  </tbody>\n",
       "</table>\n",
       "<p>14843 rows × 3 columns</p>\n",
       "</div>"
      ],
      "text/plain": [
       "         word word_root polarity\n",
       "0         (-;         (        1\n",
       "1       (;_;)     (;_;)       -1\n",
       "2        (^^)      (^^)        1\n",
       "3       (^-^)     (^-^)        1\n",
       "4        (^^*         (        1\n",
       "...       ...       ...      ...\n",
       "14838  반신반의하다      반신반의        0\n",
       "14839    신비롭다        신비        1\n",
       "14840   아리송하다       아리송       -1\n",
       "14841    알쏭하다       알쏭하       -1\n",
       "14842  알쏭달쏭하다      알쏭달쏭       -1\n",
       "\n",
       "[14843 rows x 3 columns]"
      ]
     },
     "execution_count": 4,
     "metadata": {},
     "output_type": "execute_result"
    }
   ],
   "source": [
    "import re, time, requests, json\n",
    "import numpy as np\n",
    "import pandas as pd\n",
    "from tqdm import tqdm\n",
    "from konlpy.tag import Okt\n",
    "okt = Okt()\n",
    "\n",
    "with open('C:/Users/twentystones/Desktop/사회연결망분석텀프로젝트/영석 수정중/KnuSentiLex-master/KnuSentiLex/data/SentiWord_info.json', encoding='utf-8-sig', mode='r') as f:\n",
    "    data = json.load(f)\n",
    "\n",
    "dict_knu = pd.DataFrame(data)\n",
    "dict_knu"
   ]
  },
  {
   "cell_type": "code",
   "execution_count": 208,
   "id": "146ebc32",
   "metadata": {},
   "outputs": [
    {
     "name": "stdout",
     "output_type": "stream",
     "text": [
      "bangkok\n"
     ]
    },
    {
     "name": "stderr",
     "output_type": "stream",
     "text": [
      "0it [00:00, ?it/s]<ipython-input-208-5bd31a90b6e6>:67: SettingWithCopyWarning: \n",
      "A value is trying to be set on a copy of a slice from a DataFrame\n",
      "\n",
      "See the caveats in the documentation: https://pandas.pydata.org/pandas-docs/stable/user_guide/indexing.html#returning-a-view-versus-a-copy\n",
      "  df['score_two'][n], df['score_one'][n], df['score_mone'][n], df['score_mtwo'][n] =  score_two, score_one, score_mone,score_mtwo\n",
      "90it [34:43, 23.15s/it]\n"
     ]
    },
    {
     "name": "stdout",
     "output_type": "stream",
     "text": [
      "cebu\n"
     ]
    },
    {
     "name": "stderr",
     "output_type": "stream",
     "text": [
      "90it [25:38, 17.10s/it]\n"
     ]
    },
    {
     "name": "stdout",
     "output_type": "stream",
     "text": [
      "danang\n"
     ]
    },
    {
     "name": "stderr",
     "output_type": "stream",
     "text": [
      "90it [27:33, 18.37s/it]\n"
     ]
    },
    {
     "name": "stdout",
     "output_type": "stream",
     "text": [
      "fukuoka\n"
     ]
    },
    {
     "name": "stderr",
     "output_type": "stream",
     "text": [
      "90it [22:30, 15.01s/it]\n"
     ]
    },
    {
     "name": "stdout",
     "output_type": "stream",
     "text": [
      "hanoi\n"
     ]
    },
    {
     "name": "stderr",
     "output_type": "stream",
     "text": [
      "90it [32:08, 21.43s/it]\n"
     ]
    },
    {
     "name": "stdout",
     "output_type": "stream",
     "text": [
      "hongkong\n"
     ]
    },
    {
     "name": "stderr",
     "output_type": "stream",
     "text": [
      "90it [34:09, 22.77s/it]\n"
     ]
    },
    {
     "name": "stdout",
     "output_type": "stream",
     "text": [
      "osaka\n"
     ]
    },
    {
     "name": "stderr",
     "output_type": "stream",
     "text": [
      "90it [27:58, 18.65s/it]\n"
     ]
    },
    {
     "name": "stdout",
     "output_type": "stream",
     "text": [
      "sapporo\n"
     ]
    },
    {
     "name": "stderr",
     "output_type": "stream",
     "text": [
      "90it [31:22, 20.92s/it]\n"
     ]
    },
    {
     "name": "stdout",
     "output_type": "stream",
     "text": [
      "taipei\n"
     ]
    },
    {
     "name": "stderr",
     "output_type": "stream",
     "text": [
      "90it [33:38, 22.43s/it]\n"
     ]
    },
    {
     "name": "stdout",
     "output_type": "stream",
     "text": [
      "tokyo\n"
     ]
    },
    {
     "name": "stderr",
     "output_type": "stream",
     "text": [
      "90it [34:47, 23.20s/it]\n"
     ]
    }
   ],
   "source": [
    "city_list = ['bangkok','cebu','danang','fukuoka','hanoi','hongkong','osaka','sapporo','taipei','tokyo']\n",
    "\n",
    "#지역별 긍부정단어 찾기\n",
    "score_word = pd.DataFrame(columns = ['score_two_word', 'score_one_word', 'score_mone_word', 'score_mtwo_word'] )\n",
    "\n",
    "for city in city_list:     ##################################\n",
    "    print(city)    ######\n",
    "    \n",
    "    #긍부정단어 초기화\n",
    "    score_two_word, score_one_word, score_mone_word, score_mtwo_word = [],[],[],[]\n",
    "\n",
    "    #데이터전처리\n",
    "    df = pd.read_csv('C:/Users/twentystones/Desktop/사회연결망분석텀프로젝트/travel_csv/'+city+'_blog_crawling.csv', encoding='utf-8-sig', header=None)\n",
    "    df.rename(columns= {0:'title', 1:'URL', 2:'day', 3:'body'}, inplace=True)\n",
    "    df = df.iloc[:,3:]\n",
    "    df = df.fillna('')\n",
    "    df\n",
    "\n",
    "    # 명사 추출\n",
    "    body_okt_nouns = []\n",
    "    for i in range(len(df)):    \n",
    "        body_okt_nouns.append(okt.nouns(df.body[i]))\n",
    "    df['body_okt_nouns'] = body_okt_nouns \n",
    "\n",
    "    #한글자짜리 지우기\n",
    "    body_okt_nouns_len = []\n",
    "    for i in range(len(df)):\n",
    "        body_okt_nouns_len.append([])\n",
    "\n",
    "    for i in range(len(body_okt_nouns)):\n",
    "        for word in body_okt_nouns[i]:\n",
    "            if (len(word)!=1)&(word not in ['살기','환상','가짜','부담']):\n",
    "                body_okt_nouns_len[i].append(word)\n",
    "    df['body_okt_nouns'] = body_okt_nouns_len\n",
    "\n",
    "    #df에 점수넣을 공간 만들기\n",
    "    df['score_two'], df['score_one'], df['score_mone'], df['score_mtwo'] =  0,0,0,0\n",
    "\n",
    "\n",
    "    #감성분석\n",
    "    score_list = []\n",
    "\n",
    "    for n,i in tqdm(enumerate(df['body_okt_nouns'])):   #한 블로그의 글    ##################\n",
    "        score_two, score_one, score_zero, score_mone, score_mtwo = 0, 0, 0, 0, 0\n",
    "        for w in i:   #한 블로그 글 안의 각 단어들\n",
    "\n",
    "            for k in range(0, len(dict_knu)):\n",
    "\n",
    "                if dict_knu['word'][k] == w:\n",
    "\n",
    "                    if int(dict_knu['polarity'][k]) == 2:\n",
    "                        score_two_word.append(w)\n",
    "                        score_two += 1\n",
    "\n",
    "                    elif int(dict_knu['polarity'][k]) == 1:\n",
    "                        score_one_word.append(w)\n",
    "                        score_one += 1\n",
    "\n",
    "                    elif int(dict_knu['polarity'][k]) == -1:\n",
    "                        score_mone_word.append(w)\n",
    "                        score_mone += 1\n",
    "\n",
    "                    else:\n",
    "                        score_mtwo_word.append(w)\n",
    "                        score_mtwo += 1\n",
    "\n",
    "        df['score_two'][n], df['score_one'][n], df['score_mone'][n], df['score_mtwo'][n] =  score_two, score_one, score_mone,score_mtwo\n",
    "    df.to_csv(city+'긍부정.csv', encoding='utf-8-sig')   #한지역 끝날때마다 저장\n",
    "\n",
    "    score_word = score_word.append({'score_two_word' :score_two_word,\n",
    "                         'score_one_word' : score_one_word,\n",
    "                         'score_mone_word' : score_mone_word,\n",
    "                         'score_mtwo_word' : score_mtwo_word }, ignore_index=True)\n",
    "    \n",
    "score_word.to_csv('긍부정단어목록.csv', encoding='utf-8-sig')    #모든지역 끝났을떄 저장"
   ]
  }
 ],
 "metadata": {
  "kernelspec": {
   "display_name": "Python 3",
   "language": "python",
   "name": "python3"
  },
  "language_info": {
   "codemirror_mode": {
    "name": "ipython",
    "version": 3
   },
   "file_extension": ".py",
   "mimetype": "text/x-python",
   "name": "python",
   "nbconvert_exporter": "python",
   "pygments_lexer": "ipython3",
   "version": "3.8.8"
  }
 },
 "nbformat": 4,
 "nbformat_minor": 5
}
